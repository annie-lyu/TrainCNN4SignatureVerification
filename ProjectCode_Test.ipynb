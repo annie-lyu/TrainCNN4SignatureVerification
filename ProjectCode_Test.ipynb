{
  "nbformat": 4,
  "nbformat_minor": 0,
  "metadata": {
    "colab": {
      "name": "ProjectCode-Test.ipynb",
      "version": "0.3.2",
      "provenance": [],
      "include_colab_link": true
    },
    "kernelspec": {
      "name": "python3",
      "display_name": "Python 3"
    }
  },
  "cells": [
    {
      "cell_type": "markdown",
      "metadata": {
        "id": "view-in-github",
        "colab_type": "text"
      },
      "source": [
        "<a href=\"https://colab.research.google.com/github/hchristiaan/TrainCNN4SignatureVerification/blob/master/ProjectCode_Test.ipynb\" target=\"_parent\"><img src=\"https://colab.research.google.com/assets/colab-badge.svg\" alt=\"Open In Colab\"/></a>"
      ]
    },
    {
      "metadata": {
        "id": "2hAm41ZiJ93b",
        "colab_type": "code",
        "colab": {}
      },
      "cell_type": "code",
      "source": [
        "# Please note that:\n",
        "#     # - Means comment explaining the code\n",
        "#     ### - Means things that need to be addressed"
      ],
      "execution_count": 0,
      "outputs": []
    },
    {
      "metadata": {
        "id": "y3O5sOewH7Xj",
        "colab_type": "code",
        "colab": {}
      },
      "cell_type": "code",
      "source": [
        "# Proposed file restructing to fit this code\n",
        "#import os, shutil\n",
        "\n",
        "#filePath = 'C:/Users/Colby/Desktop/Test/UTSig/UTSig'\n",
        "\n",
        "#filePathGen = filePath + '/Genuine'\n",
        "#filePathFor = filePath + '/Forgery'\n",
        "#filePathForSk = filePath + '/Forgery/Skilled' \n",
        "#filePathForOh = filePath + '/Forgery/Opposite Hand' \n",
        "#filePathForSi = filePath + '/Forgery/Simple' \n",
        "\n",
        "#if \"1\" in os.listdir(filePathGen):\n",
        "#    for i in os.listdir(filePathGen):\n",
        "#        author = i\n",
        "#        for j in os.listdir(filePathGen + '/' + author):\n",
        "#            os.rename(filePathGen + '/' + author + \"/\" + j, filePathGen + \"/\" + \"g_\" + author + \"_\" + j + \".tif\")\n",
        "#        os.removedirs(filePathGen + \"/\" + author)\n",
        "\n",
        "#if \"Skilled\" in os.listdir(filePathFor):\n",
        "#    for i in os.listdir(filePathForSk):\n",
        "#        author = i\n",
        "#        for j in os.listdir(filePathForSk + '/' + author):\n",
        "#            os.rename(filePathForSk + '/' + author + \"/\" + j, filePathFor + \"/\" + \"fSk_\" + author + \"_\" + j + \".tif\")\n",
        "#        os.removedirs(filePathForSk + \"/\" + author)\n",
        "\n",
        "#if \"Opposite Hand\" in os.listdir(filePathFor):\n",
        "#    for i in os.listdir(filePathForOh):\n",
        "#        author = i\n",
        "#        for j in os.listdir(filePathForOh + '/' + author):\n",
        "#            os.rename(filePathForOh + '/' + author + \"/\" + j, filePathFor + \"/\" + \"fOh_\" + author + \"_\" + j + \".tif\")\n",
        "#        os.removedirs(filePathForOh + \"/\" + author)\n",
        "\n",
        "#if \"Simple\" in os.listdir(filePathFor):\n",
        "#    shutil.rmtree(filePathForSi)"
      ],
      "execution_count": 0,
      "outputs": []
    },
    {
      "metadata": {
        "id": "E7kJiXaKFZTT",
        "colab_type": "code",
        "colab": {}
      },
      "cell_type": "code",
      "source": [
        "# Import all required repositories for the project\n",
        "import os\n",
        "import numpy as np\n",
        "import matplotlib.pyplot as plt\n",
        "import cv2\n",
        "\n",
        "import keras\n",
        "import keras.backend as K\n",
        "import tensorflow as tf\n",
        "from keras import applications\n",
        "from keras.models import Model\n",
        "from keras.layers import Flatten, Dense, Input,concatenate\n",
        "from keras.optimizers import Adam\n",
        "from keras.models import load_model, model_from_json\n",
        "\n",
        "import random"
      ],
      "execution_count": 0,
      "outputs": []
    },
    {
      "metadata": {
        "id": "oGmO3bqbF-qC",
        "colab_type": "code",
        "colab": {}
      },
      "cell_type": "code",
      "source": [
        "# Import the google drive to upload the data\n",
        "from google.colab import drive\n",
        "drive.mount('/content/drive')"
      ],
      "execution_count": 0,
      "outputs": []
    },
    {
      "metadata": {
        "id": "h-b0S5PwGEA4",
        "colab_type": "code",
        "colab": {}
      },
      "cell_type": "code",
      "source": [
        "# Unzip the image dataset\n",
        "!unzip '/content/drive/Team Drives/inputdataset/UTSig.zip' -d /content"
      ],
      "execution_count": 0,
      "outputs": []
    },
    {
      "metadata": {
        "id": "9v4c7wDVGgri",
        "colab_type": "code",
        "colab": {}
      },
      "cell_type": "code",
      "source": [
        "# File paths of the image data used later in the project\n",
        "gentr=\"/content/.....\"\n",
        "forgtr=\"/content/.....\"\n",
        "\n",
        "gent=\"/content/...\"\n",
        "forgt=\"/content/...\""
      ],
      "execution_count": 0,
      "outputs": []
    },
    {
      "metadata": {
        "id": "wyIC4D10G1tB",
        "colab_type": "code",
        "colab": {}
      },
      "cell_type": "code",
      "source": [
        "# Code block for working with the image files (resizing, retreiving files, etc.)\n",
        "\n",
        "# Standard height weight for images\n",
        "img_width, img_height, channels = 224, 224, 3\n",
        "\n",
        "dim = (img_width, img_height)\n",
        "\n",
        "### Do we need this??? ###\n",
        "def to_rgb(img):\n",
        "    img = cv2.resize(img, dim, interpolation = cv2.INTER_AREA) \n",
        "    img_rgb = np.asarray(np.dstack((img, img, img)), dtype=np.uint8)\n",
        "    return img_rgb\n",
        "\n",
        "\n",
        "# Takes in file patch and image name and returns resized image\n",
        "def returnimages(path,img):\n",
        "    image=cv2.imread(path+\"/\"+ img)                  #bringing the image\n",
        "    image=cv2.resize(image, (img_width, img_height))\n",
        "    image=cv2.cvtColor(image, cv2.COLOR_BGR2GRAY)\n",
        "    image=to_rgb(image).reshape(1,img_width, img_height,3)/255.0       #resizing and normalizing    \n",
        "    return image     \n",
        "\n",
        "# Takes in number of author, path for genuine and forged signatures\n",
        "# Returns one image name (m.pop()), and two arrays of file names n = forgary, m = genuine\n",
        "# Used for generator()\n",
        "def getfiles(num,gen,forg):\n",
        "    a=os.listdir(gen)\n",
        "    b=os.listdir(forg)\n",
        "    c=str(num)\n",
        "    c=c[2:]\n",
        "    if(len(c)==2):\n",
        "        c=c+\"0\"\n",
        "        \n",
        "### This code needs to be altered ###  \n",
        "    n,m=[],[]\n",
        "    for i in b:\n",
        "        if i.endswith(c+\".png\"):\n",
        "            n=n+[i]\n",
        "        elif i.endswith(c+\".PNG\"):\n",
        "            n=n+[i]\n",
        "    for i in a:\n",
        "        if i.endswith(c+\".png\"):\n",
        "            m=m+[i]\n",
        "        elif i.endswith(c+\".PNG\"):\n",
        "            m=m+[i]\n",
        "    return m.pop(),n,m\n",
        "######################################\n",
        "\n",
        "### Needs to be looked into ###\n",
        "### used for generator2()   ###\n",
        "def getfiles2(num):\n",
        "    a=os.listdir(gentr)\n",
        "    b=os.listdir(forgtr)\n",
        "    c=str(num)\n",
        "    c=c[2:]\n",
        "    if(len(c)==2):\n",
        "        c=c+\"0\"\n",
        "### Needs to be altered ###\n",
        "    n,m=[],[]\n",
        "    for i in b:\n",
        "        if (i.endswith(c+\"_001_6g.png\") or i.endswith(c+\"_002_6g.png\") or i.endswith(c+\"_003_6g.png\")\n",
        "            or i.endswith(c+\"_004_6g.png\") or i.endswith(c+\"_005_6g.png\")):\n",
        "            n=n+[i]\n",
        "        elif (i.endswith(c+\"_001_6g.PNG\") or i.endswith(c+\"_002_6g.PNG\") or i.endswith(c+\"_003_6g.PNG\")\n",
        "              or i.endswith(c+\"_004_6g.PNG\") or i.endswith(c+\"_005_6g.PNG\")):\n",
        "            n=n+[i]\n",
        "    for i in a:\n",
        "        if (i.endswith(c+\"_001_6g.png\") or i.endswith(c+\"_002_6g.png\") or i.endswith(c+\"_003_6g.png\")\n",
        "            or i.endswith(c+\"_004_6g.png\") or i.endswith(c+\"_005_6g.png\")):\n",
        "            m=m+[i]\n",
        "        elif (i.endswith(c+\"_001_6g.PNG\") or i.endswith(c+\"_002_6g.PNG\") or i.endswith(c+\"_003_6g.PNG\")\n",
        "              or i.endswith(c+\"_004_6g.PNG\") or i.endswith(c+\"_005_6g.PNG\")):\n",
        "            m=m+[i]\n",
        "    return m.pop(),n,m\n",
        "#################################"
      ],
      "execution_count": 0,
      "outputs": []
    },
    {
      "metadata": {
        "id": "KCNG0WU8IY8P",
        "colab_type": "code",
        "colab": {}
      },
      "cell_type": "code",
      "source": [
        "# Function for defining loss variable in model, leave for now, look into altering?\n",
        "# Unsure what y_pred is doing, or how this works....\n",
        "def triplet_loss(y_true, y_pred):\n",
        "    alpha = 0.5\n",
        "    anchor, positive, negative =y_pred[0,0:512], y_pred[0,512:1024], y_pred[0,1024:1536]\n",
        "    \n",
        "    positive_distance = K.mean(K.square(anchor - positive),axis=-1)\n",
        "    negative_distance = K.mean(K.square(anchor - negative),axis=-1)\n",
        "    return K.mean(K.maximum(0.0, positive_distance - negative_distance + alpha))"
      ],
      "execution_count": 0,
      "outputs": []
    },
    {
      "metadata": {
        "id": "9PDwiO2mI9KM",
        "colab_type": "code",
        "colab": {}
      },
      "cell_type": "code",
      "source": [
        "# Defining the architecture. chose to go with 16 as it is smaller...\n",
        "model = applications.vgg16.VGG16(weights='imagenet', include_top=False, pooling='max')\n",
        "\n",
        "### Imput baseline model ### Unsure how this is done, commenting for now\n",
        "#basemodel = applications.vgg16.VGG16(weights='imagenet', include_top=False, pooling='max')"
      ],
      "execution_count": 0,
      "outputs": []
    },
    {
      "metadata": {
        "id": "5mIeOyITJa84",
        "colab_type": "code",
        "colab": {}
      },
      "cell_type": "code",
      "source": [
        "# For layers from 1 to 15 freeze the weights\n",
        "\n",
        "### We will need to do a test for each layer to find the optimal transfer* ###\n",
        "### For now just copying over the code from example\n",
        "for layer in model.layers[:15]:\n",
        "    layer.trainable = False"
      ],
      "execution_count": 0,
      "outputs": []
    },
    {
      "metadata": {
        "id": "Wzi6UGjRKcfy",
        "colab_type": "code",
        "colab": {}
      },
      "cell_type": "code",
      "source": [
        "# all \"in\" variables are defining the input \"shape\" for the model\n",
        "# Input is a function in Keras\n",
        "# Positive represents genuine / Negative represents Forgary \n",
        "anchor_in = Input(shape=(img_width, img_height, channels))\n",
        "pos_in = Input(shape=(img_width, img_height, channels))\n",
        "neg_in = Input(shape=(img_width, img_height, channels))\n",
        "\n",
        "# Defining \n",
        "anchor_out = model(anchor_in)\n",
        "pos_out = model(pos_in)\n",
        "neg_out = model(neg_in)\n",
        "merged_vector = concatenate([anchor_out, pos_out, neg_out],axis=1)"
      ],
      "execution_count": 0,
      "outputs": []
    },
    {
      "metadata": {
        "id": "-rjRYI3_KrK9",
        "colab_type": "code",
        "colab": {}
      },
      "cell_type": "code",
      "source": [
        "# Setting inputs and outputs of the model\n",
        "# Model function - potentially overwrites the input and output layers\n",
        "### Unsure what the output is... Need to research ###\n",
        "# Input is 3 images: image in question (anchor), postitive image, negative image (same authors)\n",
        "\n",
        "model = Model(inputs=[anchor_in, pos_in, neg_in], outputs=merged_vector)"
      ],
      "execution_count": 0,
      "outputs": []
    },
    {
      "metadata": {
        "id": "cp9wKRrrLyDK",
        "colab_type": "code",
        "colab": {}
      },
      "cell_type": "code",
      "source": [
        "# Compiling the model\n",
        "# loss function set to function defined earlier\n",
        "# Optimizer is for learning rate of the function\n",
        "### unsure what Adam function does\n",
        "\n",
        "model.compile(optimizer=Adam(lr=0.000005),loss=triplet_loss)"
      ],
      "execution_count": 0,
      "outputs": []
    },
    {
      "metadata": {
        "id": "9QuwOKiQMIkS",
        "colab_type": "code",
        "colab": {}
      },
      "cell_type": "code",
      "source": [
        "# m is genuine, pos is syn for genuine\n",
        "# n if forg, neg is syn for forg\n",
        "# anc is the genuine image\n",
        "\n",
        "# Generator - Goes through every author (1 - 32) and returns an anchor (last image) and an array of file names (negative=forged) (positive=genuine) \n",
        "def generator():\n",
        "    for i in range(1,31):\n",
        "      # Returns last genuine image, array of pos/genuine files, array of neg/forgary files\n",
        "        if(i<10):\n",
        "            anc,neg,pos=getfiles(float(\"0.00\"+str(i)),gen,forg)\n",
        "        else:\n",
        "            anc,neg,pos=getfiles(float(\"0.0\"+str(i)),gen,forg)\n",
        "\n",
        "#When we have the list of images/arrays for that author, we then loop through for the length of the negative list (total number of forged)\n",
        "  #For each negative image, we are going to loop through the length of the positive list\n",
        "    #For each positive image we resize the anchor, first\n",
        "    \n",
        "###May not be right below: \n",
        "###Example: 5 postivie, 5 negative\n",
        "###Povide: 5 3 image combinations per negative image. \n",
        "###30 in total: 25 * 30 = 750 combinations of 3 images per run of the function\n",
        "\n",
        "      \n",
        "        for i in range(len(neg)):\n",
        "            print(\"This is Negative Image:\" + str(i))\n",
        "            for j in range(len(pos)):\n",
        "                print(\"This is Positive Image:\" + str(j))\n",
        "                anchor=returnimages(gen,anc)\n",
        "                positive=returnimages(gen,pos[j])\n",
        "                negative=returnimages(forg,neg[i])\n",
        "               # yield ([anc,pos[j],neg[i]],[0])\n",
        "                yield ([anchor,positive,negative],[0])"
      ],
      "execution_count": 0,
      "outputs": []
    },
    {
      "metadata": {
        "id": "j67V-7eBMKxT",
        "colab_type": "code",
        "colab": {}
      },
      "cell_type": "code",
      "source": [
        "### These values were taken from example, need to decide on what they should be\n",
        "\n",
        "for x in range(2):\n",
        "    model.fit_generator(generator(),steps_per_epoch=200,epochs=3)"
      ],
      "execution_count": 0,
      "outputs": []
    }
  ]
}