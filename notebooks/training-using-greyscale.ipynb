{
 "cells": [
  {
   "cell_type": "code",
   "execution_count": 6,
   "metadata": {
    "_uuid": "457c8128a0d1b8b87625e42b6796f52fd0441406"
   },
   "outputs": [],
   "source": [
    "import os\n",
    "import numpy as np\n",
    "import matplotlib.pyplot as plt\n",
    "import cv2\n",
    "\n",
    "import keras\n",
    "import keras.backend as K\n",
    "import tensorflow as tf\n",
    "from keras import applications\n",
    "from keras.models import Model\n",
    "from keras.layers import Flatten, Dense, Input,concatenate\n",
    "from keras.optimizers import Adam\n",
    "from keras.models import load_model, model_from_json\n",
    "\n",
    "import random\n",
    "#from PIL import Image, ImageChops"
   ]
  },
  {
   "cell_type": "code",
   "execution_count": 66,
   "metadata": {
    "_uuid": "9cff639e3cb35d510d6fc8d08803f3afacbdfc70"
   },
   "outputs": [],
   "source": [
    "#gen=\"./input/handwritten-signatures/sample_Signature/genuine\"\n",
    "#forg=\"./input/handwritten-signatures/sample_Signature/forged\"\n",
    "gen=\"../input/handwritten-signatures/sample_Signature/genuine\"\n",
    "forg=\"../input/handwritten-signatures/sample_Signature/forged\"\n",
    "\n",
    "#gentr=\"../input/sigcomp-2009-train/sigcomp 2009 train/Sigcomp 2009 train/genuine\"\n",
    "#forgtr=\"../input/sigcomp-2009-train/sigcomp 2009 train/Sigcomp 2009 train/forgeries\"\n",
    "\n",
    "#gent=\"../input/sigcomp-2009/sigcomp 2009/genuines\"\n",
    "#forgt=\"../input/sigcomp-2009/sigcomp 2009/forgeries\"\n",
    "#training set\n",
    "gentr=\"../input/sigcomp-2009-train/genuine\"\n",
    "forgtr=\"../input/sigcomp-2009-train/forgeries\"\n",
    "\n",
    "#test set\n",
    "gent=\"../input/sigcomp-2009/genuines\"\n",
    "forgt=\"../input/sigcomp-2009/forgeries\""
   ]
  },
  {
   "cell_type": "code",
   "execution_count": 57,
   "metadata": {
    "_uuid": "137ad333bcbf9f7d4a33d3c369d5e32e4b1a093f"
   },
   "outputs": [],
   "source": [
    "img_width, img_height, channels = 224, 224, 3\n",
    "\n",
    "dim = (img_width, img_height)\n",
    "\n",
    "def to_rgb(img):\n",
    "    img = cv2.resize(img, dim, interpolation = cv2.INTER_AREA) \n",
    "    img_rgb = np.asarray(np.dstack((img, img, img)), dtype=np.uint8)\n",
    "    return img_rgb\n",
    "\n",
    "def returnimages(path,img):\n",
    "    image=cv2.imread(path+\"/\"+ img)                  #bringing the image\n",
    "    image=cv2.resize(image, (img_width, img_height))\n",
    "    image=cv2.cvtColor(image, cv2.COLOR_BGR2GRAY)\n",
    "    image=to_rgb(image).reshape(1,img_width, img_height,3)/255.0       #resizing and normalizing    \n",
    "    return image     \n",
    "\n",
    "def getfiles(num,gen,forg):\n",
    "    a=os.listdir(gen)\n",
    "    b=os.listdir(forg)\n",
    "    c=str(num)\n",
    "    c=c[2:]\n",
    "    if(len(c)==2):\n",
    "        c=c+\"0\"\n",
    "    \n",
    "    n,m=[],[]\n",
    "    for i in b:\n",
    "        if i.endswith(c+\".png\"):\n",
    "            n=n+[i]\n",
    "        elif i.endswith(c+\".PNG\"):\n",
    "            n=n+[i]\n",
    "    for i in a:\n",
    "        if i.endswith(c+\".png\"):\n",
    "            m=m+[i]\n",
    "        elif i.endswith(c+\".PNG\"):\n",
    "            m=m+[i]\n",
    "    return m.pop(),n,m\n",
    "\n",
    "def getfiles2(num):\n",
    "    a=os.listdir(gentr)\n",
    "    b=os.listdir(forgtr)\n",
    "    c=str(num)\n",
    "    c=c[2:]\n",
    "    if(len(c)==2):\n",
    "        c=c+\"0\"\n",
    "    n,m=[],[]\n",
    "    for i in b:\n",
    "        if (i.endswith(c+\"_001_6g.png\") or i.endswith(c+\"_002_6g.png\") or i.endswith(c+\"_003_6g.png\")\n",
    "            or i.endswith(c+\"_004_6g.png\") or i.endswith(c+\"_005_6g.png\")):\n",
    "            n=n+[i]\n",
    "        elif (i.endswith(c+\"_001_6g.PNG\") or i.endswith(c+\"_002_6g.PNG\") or i.endswith(c+\"_003_6g.PNG\")\n",
    "              or i.endswith(c+\"_004_6g.PNG\") or i.endswith(c+\"_005_6g.PNG\")):\n",
    "            n=n+[i]\n",
    "    for i in a:\n",
    "        if (i.endswith(c+\"_001_6g.png\") or i.endswith(c+\"_002_6g.png\") or i.endswith(c+\"_003_6g.png\")\n",
    "            or i.endswith(c+\"_004_6g.png\") or i.endswith(c+\"_005_6g.png\")):\n",
    "            m=m+[i]\n",
    "        elif (i.endswith(c+\"_001_6g.PNG\") or i.endswith(c+\"_002_6g.PNG\") or i.endswith(c+\"_003_6g.PNG\")\n",
    "              or i.endswith(c+\"_004_6g.PNG\") or i.endswith(c+\"_005_6g.PNG\")):\n",
    "            m=m+[i]\n",
    "    return m.pop(),n,m\n",
    "\n"
   ]
  },
  {
   "cell_type": "code",
   "execution_count": 58,
   "metadata": {
    "_uuid": "1f393a960808ce3ae109f652596c119234569929"
   },
   "outputs": [],
   "source": [
    "def triplet_loss(y_true, y_pred):\n",
    "    alpha = 0.5\n",
    "    anchor, positive, negative =y_pred[0,0:512], y_pred[0,512:1024], y_pred[0,1024:1536]\n",
    "    \n",
    "    positive_distance = K.mean(K.square(anchor - positive),axis=-1)\n",
    "    negative_distance = K.mean(K.square(anchor - negative),axis=-1)\n",
    "    return K.mean(K.maximum(0.0, positive_distance - negative_distance + alpha))"
   ]
  },
  {
   "cell_type": "code",
   "execution_count": 30,
   "metadata": {
    "_uuid": "a09db907a57305044ee9704496b0baeab0fcfc7f"
   },
   "outputs": [],
   "source": [
    "model = applications.vgg19.VGG19(weights='imagenet', include_top=False, pooling='max')"
   ]
  },
  {
   "cell_type": "code",
   "execution_count": 31,
   "metadata": {
    "_uuid": "678fd9c5a2e7e9a65801419bdbba678b627bc6ee"
   },
   "outputs": [],
   "source": [
    "for layer in model.layers[:15]:\n",
    "    layer.trainable = False"
   ]
  },
  {
   "cell_type": "code",
   "execution_count": 32,
   "metadata": {
    "_uuid": "a8df697932a42e3d3a4de7b628fa714de636672c"
   },
   "outputs": [],
   "source": [
    "anchor_in = Input(shape=(img_width, img_height, channels))\n",
    "pos_in = Input(shape=(img_width, img_height, channels))\n",
    "neg_in = Input(shape=(img_width, img_height, channels))\n",
    "\n",
    "anchor_out = model(anchor_in)\n",
    "pos_out = model(pos_in)\n",
    "neg_out = model(neg_in)\n",
    "merged_vector = concatenate([anchor_out, pos_out, neg_out],axis=1)"
   ]
  },
  {
   "cell_type": "code",
   "execution_count": 33,
   "metadata": {
    "_uuid": "6895eb65489e99a300ff26a22bcc9f2f861a7954"
   },
   "outputs": [],
   "source": [
    "model = Model(inputs=[anchor_in, pos_in, neg_in], outputs=merged_vector)"
   ]
  },
  {
   "cell_type": "code",
   "execution_count": 34,
   "metadata": {
    "_uuid": "027c3ea08b5899817d170e023ade9d3ba5f91ee3"
   },
   "outputs": [],
   "source": [
    "model.compile(optimizer=Adam(lr=0.000005),loss=triplet_loss)"
   ]
  },
  {
   "cell_type": "code",
   "execution_count": 59,
   "metadata": {
    "_uuid": "ff91094e0df6512056bc32dda716681523128370"
   },
   "outputs": [],
   "source": [
    "def generator():\n",
    "    for i in range(1,31):\n",
    "        if(i<10):\n",
    "            anc,neg,pos=getfiles(float(\"0.00\"+str(i)),gen,forg)\n",
    "        else:\n",
    "            anc,neg,pos=getfiles(float(\"0.0\"+str(i)),gen,forg)\n",
    "        for i in range(len(neg)):\n",
    "            for j in range(len(pos)):\n",
    "                anchor=returnimages(gen,anc)\n",
    "                positive=returnimages(gen,pos[j])\n",
    "                negative=returnimages(forg,neg[i])\n",
    "               # yield ([anc,pos[j],neg[i]],[0])\n",
    "                yield ([anchor,positive,negative],[0])"
   ]
  },
  {
   "cell_type": "code",
   "execution_count": 36,
   "metadata": {
    "_uuid": "63886c6513ed93c4aef5948709a1526b7805b41d",
    "scrolled": true
   },
   "outputs": [
    {
     "name": "stdout",
     "output_type": "stream",
     "text": [
      "Epoch 1/3\n",
      "200/200 [==============================] - 225s 1s/step - loss: 0.1818\n",
      "Epoch 2/3\n",
      "200/200 [==============================] - 223s 1s/step - loss: 0.0242\n",
      "Epoch 3/3\n",
      "200/200 [==============================] - 227s 1s/step - loss: 0.0301\n",
      "Epoch 1/3\n",
      "200/200 [==============================] - 229s 1s/step - loss: 0.0032\n",
      "Epoch 2/3\n",
      "200/200 [==============================] - 236s 1s/step - loss: 0.0000e+00\n",
      "Epoch 3/3\n",
      "200/200 [==============================] - 235s 1s/step - loss: 0.0000e+00\n"
     ]
    }
   ],
   "source": [
    "for x in range(2):\n",
    "    model.fit_generator(generator(),steps_per_epoch=200,epochs=3)"
   ]
  },
  {
   "cell_type": "code",
   "execution_count": 60,
   "metadata": {
    "_uuid": "795a8d9749c7dfa0ec9dba7811192c3a47a21fdf"
   },
   "outputs": [],
   "source": [
    "model.compile(optimizer=Adam(lr=0.000002),loss=triplet_loss)"
   ]
  },
  {
   "cell_type": "code",
   "execution_count": 61,
   "metadata": {
    "_uuid": "f6566cfba2425a96bd98558e8b10b3880862266a"
   },
   "outputs": [],
   "source": [
    "def generator2():\n",
    "    x=[\"0.001\",\"0.004\", \"0.005\", \"0.006\", \"0.007\",\n",
    "       \"0.008\", \"0.009\", \"0.010\", \"0.011\", \"0.001\", \"0.010\"]\n",
    "  #  x=[\"0.001\", \"0.004\", \"0.006\", \"0.010\"]\n",
    "\n",
    "    for k in x:\n",
    "        anc,neg,pos=getfiles2(k)\n",
    "        frac=0.95    \n",
    "        inds = set(random.sample(list(range(len(neg))), int(frac*len(neg))))\n",
    "        neg = [n for i,n in enumerate(neg) if i not in inds]\n",
    "    \n",
    "        for i in range(len(neg)):\n",
    "            for j in range(len(pos)):\n",
    "                anchor=returnimages(gentr,anc)\n",
    "                positive=returnimages(gentr,pos[j])\n",
    "                negative=returnimages(forgtr,neg[i])\n",
    "               # yield ([anc,pos[j],neg[i]])\n",
    "                yield ([anchor,positive,negative],[0])"
   ]
  },
  {
   "cell_type": "code",
   "execution_count": 67,
   "metadata": {
    "_uuid": "d31556b88d8eb42a38acb6e5cd2b7f2fe4d06ec4"
   },
   "outputs": [
    {
     "name": "stdout",
     "output_type": "stream",
     "text": [
      "Epoch 1/11\n",
      "32/32 [==============================] - 38s 1s/step - loss: 0.0111\n",
      "Epoch 2/11\n",
      "32/32 [==============================] - 36s 1s/step - loss: 0.0000e+00\n",
      "Epoch 3/11\n",
      "32/32 [==============================] - 36s 1s/step - loss: 0.0000e+00\n",
      "Epoch 4/11\n",
      "32/32 [==============================] - 36s 1s/step - loss: 0.0000e+00\n",
      "Epoch 5/11\n",
      "32/32 [==============================] - 36s 1s/step - loss: 0.0382\n",
      "Epoch 6/11\n",
      "32/32 [==============================] - 36s 1s/step - loss: 0.0724\n",
      "Epoch 7/11\n",
      "32/32 [==============================] - 37s 1s/step - loss: 0.0422\n",
      "Epoch 8/11\n",
      "32/32 [==============================] - 38s 1s/step - loss: 0.0394\n",
      "Epoch 9/11\n",
      "32/32 [==============================] - 41s 1s/step - loss: 0.0265\n",
      "Epoch 10/11\n",
      "32/32 [==============================] - 39s 1s/step - loss: 0.0016\n",
      "Epoch 11/11\n",
      "32/32 [==============================] - 36s 1s/step - loss: 0.0012\n",
      "Epoch 1/11\n",
      "32/32 [==============================] - 1008s 31s/step - loss: 0.0000e+00\n",
      "Epoch 2/11\n",
      "32/32 [==============================] - 36s 1s/step - loss: 0.0353\n",
      "Epoch 3/11\n",
      "32/32 [==============================] - 35s 1s/step - loss: 0.0000e+00\n",
      "Epoch 4/11\n",
      "32/32 [==============================] - 36s 1s/step - loss: 0.0214\n",
      "Epoch 5/11\n",
      "32/32 [==============================] - 35s 1s/step - loss: 0.0000e+00\n",
      "Epoch 6/11\n",
      "32/32 [==============================] - 35s 1s/step - loss: 0.0000e+00\n",
      "Epoch 7/11\n",
      "32/32 [==============================] - 35s 1s/step - loss: 0.0000e+00\n",
      "Epoch 8/11\n",
      "32/32 [==============================] - 35s 1s/step - loss: 0.0332\n",
      "Epoch 9/11\n",
      "32/32 [==============================] - 36s 1s/step - loss: 0.0000e+00\n",
      "Epoch 10/11\n",
      "32/32 [==============================] - 16708s 522s/step - loss: 0.0039\n",
      "Epoch 11/11\n",
      "32/32 [==============================] - 39s 1s/step - loss: 0.0000e+00\n"
     ]
    }
   ],
   "source": [
    "for x in range(2):\n",
    "    model.fit_generator(generator2(),steps_per_epoch=32,epochs=11)"
   ]
  },
  {
   "cell_type": "code",
   "execution_count": 68,
   "metadata": {
    "_uuid": "083730c5a1391421b3150e4d710be5020fe6e655"
   },
   "outputs": [
    {
     "name": "stdout",
     "output_type": "stream",
     "text": [
      "624 203\n"
     ]
    }
   ],
   "source": [
    "tneg,tpos=0,0\n",
    "x=[0.002, 0.008, 0.016, 0.018, 0.024, 0.033, 0.035, 0.044, 0.046, 0.063,\n",
    "   0.070, 0.071, 0.077, 0.084, 0.085, 0.086, 0.089, 0.092, 0.093]\n",
    "for k in x: #the id of signatures you want to check\n",
    "    #print(\"When k is \", k)\n",
    "    anc,neg,pos=getfiles(k,gent,forgt)\n",
    "    tneg=tneg+len(neg)\n",
    "    tpos=tpos+len(pos)\n",
    "print(tneg,tpos)"
   ]
  },
  {
   "cell_type": "code",
   "execution_count": 75,
   "metadata": {
    "_uuid": "6f170046a2263ec6f01ebfb24446db32067c3a49"
   },
   "outputs": [
    {
     "data": {
      "text/plain": [
       "[]"
      ]
     },
     "execution_count": 75,
     "metadata": {},
     "output_type": "execute_result"
    }
   ],
   "source": [
    "os.listdir('../working')"
   ]
  },
  {
   "cell_type": "code",
   "execution_count": 76,
   "metadata": {
    "_uuid": "9f0d5dca740c8e6729089918b780e85c17726203"
   },
   "outputs": [],
   "source": [
    "# Save the weights\n",
    "model.save_weights('model_weights.h5')\n",
    "\n",
    "# Save the model architecture\n",
    "#with open('model_architecture.json', 'w') as f:\n",
    "#    f.write(model.to_json())"
   ]
  },
  {
   "cell_type": "code",
   "execution_count": 77,
   "metadata": {
    "_uuid": "b56de28559d8ac142520ac3d188a369b192f3f7c"
   },
   "outputs": [
    {
     "data": {
      "text/plain": [
       "[]"
      ]
     },
     "execution_count": 77,
     "metadata": {},
     "output_type": "execute_result"
    }
   ],
   "source": [
    "os.listdir('../working')"
   ]
  },
  {
   "cell_type": "code",
   "execution_count": 78,
   "metadata": {
    "_uuid": "10ad0b8b91077365cee3938a843101d85bdd9c1d",
    "scrolled": true
   },
   "outputs": [
    {
     "name": "stdout",
     "output_type": "stream",
     "text": [
      "When k is  0.002\n",
      "gen flagged -  34.16919 file name is -  NFI-00207002.png\n",
      "forg passed -  31.759441 file name is -  NFI-08901002.png\n",
      "When k is  0.008\n",
      "gen flagged -  39.072468 file name is -  NFI-00801008.png\n",
      "gen flagged -  36.131927 file name is -  NFI-00803008.png\n",
      "gen flagged -  33.295662 file name is -  NFI-00811008.png\n",
      "gen flagged -  32.218952 file name is -  NFI-00810008.png\n",
      "gen flagged -  34.052654 file name is -  NFI-00804008.png\n",
      "forg passed -  31.130236 file name is -  NFI-05201008.png\n",
      "When k is  0.016\n",
      "gen flagged -  33.33131 file name is -  NFI-01607016.png\n",
      "gen flagged -  35.829453 file name is -  NFI-01605016.png\n",
      "gen flagged -  33.366035 file name is -  NFI-01601016.png\n",
      "gen flagged -  34.542187 file name is -  NFI-01604016.png\n",
      "gen flagged -  32.489124 file name is -  NFI-01608016.png\n",
      "gen flagged -  32.335926 file name is -  NFI-01602016.png\n",
      "forg passed -  30.157505 file name is -  NFI-07406016.png\n",
      "forg passed -  30.676947 file name is -  NFI-08505016.png\n",
      "forg passed -  29.148092 file name is -  NFI-07703016.png\n",
      "forg passed -  31.48787 file name is -  NFI-07402016.png\n",
      "forg passed -  31.84607 file name is -  NFI-07704016.png\n",
      "forg passed -  25.282703 file name is -  NFI-07405016.png\n",
      "forg passed -  28.250195 file name is -  NFI-07401016.png\n",
      "forg passed -  31.668045 file name is -  NFI-07403016.png\n",
      "When k is  0.018\n",
      "gen flagged -  36.741306 file name is -  NFI-01807018.png\n",
      "gen flagged -  52.880745 file name is -  NFI-01811018.png\n",
      "gen flagged -  53.935875 file name is -  NFI-01802018.png\n",
      "forg passed -  23.558243 file name is -  NFI-08906018.png\n",
      "forg passed -  31.933096 file name is -  NFI-10003018.png\n",
      "forg passed -  30.889782 file name is -  NFI-08904018.png\n",
      "forg passed -  27.338861 file name is -  NFI-08905018.png\n",
      "forg passed -  31.149815 file name is -  NFI-08901018.png\n",
      "forg passed -  25.34177 file name is -  NFI-10004018.png\n",
      "forg passed -  30.70802 file name is -  NFI-10006018.png\n",
      "When k is  0.024\n",
      "forg passed -  30.957958 file name is -  NFI-01302024.png\n",
      "When k is  0.033\n",
      "gen flagged -  32.046803 file name is -  NFI-03303033.png\n",
      "forg passed -  27.195065 file name is -  NFI-02705033.png\n",
      "forg passed -  31.120628 file name is -  NFI-01602033.png\n",
      "forg passed -  30.470877 file name is -  NFI-01704033.png\n",
      "forg passed -  28.861746 file name is -  NFI-01604033.png\n",
      "forg passed -  31.880493 file name is -  NFI-02703033.png\n",
      "forg passed -  28.780928 file name is -  NFI-01606033.png\n",
      "forg passed -  31.803568 file name is -  NFI-02701033.png\n",
      "forg passed -  29.23649 file name is -  NFI-01603033.png\n",
      "forg passed -  24.277409 file name is -  NFI-02704033.png\n",
      "forg passed -  27.953392 file name is -  NFI-02201033.png\n",
      "forg passed -  30.45202 file name is -  NFI-02706033.png\n",
      "forg passed -  23.117733 file name is -  NFI-02702033.png\n",
      "forg passed -  30.11423 file name is -  NFI-01605033.png\n",
      "When k is  0.035\n",
      "gen flagged -  32.724945 file name is -  NFI-03502035.png\n",
      "gen flagged -  34.928944 file name is -  NFI-03512035.png\n",
      "gen flagged -  38.5758 file name is -  NFI-03504035.png\n",
      "gen flagged -  33.56355 file name is -  NFI-03506035.png\n",
      "gen flagged -  41.6046 file name is -  NFI-03503035.png\n",
      "gen flagged -  36.20311 file name is -  NFI-03501035.png\n",
      "When k is  0.044\n",
      "gen flagged -  32.99775 file name is -  NFI-04402044.png\n",
      "gen flagged -  33.538662 file name is -  NFI-04404044.png\n",
      "gen flagged -  35.05551 file name is -  NFI-04406044.png\n",
      "gen flagged -  36.707176 file name is -  NFI-04403044.png\n",
      "gen flagged -  32.805298 file name is -  NFI-04411044.png\n",
      "gen flagged -  34.920197 file name is -  NFI-04401044.png\n",
      "gen flagged -  37.276257 file name is -  NFI-04405044.png\n",
      "gen flagged -  32.632545 file name is -  NFI-04409044.png\n",
      "forg passed -  30.192957 file name is -  NFI-00905044.png\n",
      "forg passed -  29.10528 file name is -  NFI-00604044.png\n",
      "forg passed -  30.924723 file name is -  NFI-00903044.png\n",
      "When k is  0.046\n",
      "When k is  0.063\n",
      "forg passed -  30.019032 file name is -  NFI-00603063.png\n",
      "forg passed -  31.276674 file name is -  NFI-08002063.png\n",
      "forg passed -  31.481081 file name is -  NFI-08001063.png\n",
      "When k is  0.07\n",
      "gen flagged -  35.80538 file name is -  NFI-07005070.png\n",
      "gen flagged -  34.677773 file name is -  NFI-07007070.png\n",
      "gen flagged -  42.09478 file name is -  NFI-07003070.png\n",
      "gen flagged -  38.488747 file name is -  NFI-07011070.png\n",
      "gen flagged -  35.260883 file name is -  NFI-07001070.png\n",
      "gen flagged -  37.961422 file name is -  NFI-07004070.png\n",
      "gen flagged -  35.73216 file name is -  NFI-07008070.png\n",
      "gen flagged -  42.423973 file name is -  NFI-07006070.png\n",
      "gen flagged -  33.424152 file name is -  NFI-07002070.png\n",
      "When k is  0.071\n",
      "gen flagged -  46.82928 file name is -  NFI-07106071.png\n",
      "forg passed -  30.259932 file name is -  NFI-07402071.png\n",
      "forg passed -  31.027687 file name is -  NFI-08506071.png\n",
      "When k is  0.077\n",
      "gen flagged -  38.565712 file name is -  NFI-07703077.png\n",
      "gen flagged -  39.360058 file name is -  NFI-07709077.png\n",
      "gen flagged -  37.08203 file name is -  NFI-07710077.png\n",
      "gen flagged -  34.46561 file name is -  NFI-07712077.png\n",
      "forg passed -  31.452362 file name is -  NFI-02204077.png\n",
      "When k is  0.084\n",
      "gen flagged -  33.683258 file name is -  NFI-08408084.png\n",
      "gen flagged -  39.129604 file name is -  NFI-08406084.png\n",
      "gen flagged -  33.59411 file name is -  NFI-08410084.png\n",
      "gen flagged -  33.59362 file name is -  NFI-08402084.png\n",
      "gen flagged -  35.526608 file name is -  NFI-08412084.png\n",
      "gen flagged -  39.10972 file name is -  NFI-08409084.png\n",
      "gen flagged -  57.09201 file name is -  NFI-08407084.png\n",
      "gen flagged -  45.98953 file name is -  NFI-08411084.png\n",
      "forg passed -  31.151442 file name is -  NFI-04103084.png\n",
      "forg passed -  31.3986 file name is -  NFI-04101084.png\n",
      "forg passed -  31.021183 file name is -  NFI-04102084.png\n",
      "When k is  0.085\n",
      "gen flagged -  35.326206 file name is -  NFI-08502085.png\n",
      "gen flagged -  36.892387 file name is -  NFI-08510085.png\n",
      "gen flagged -  35.228764 file name is -  NFI-08512085.png\n",
      "gen flagged -  33.883987 file name is -  NFI-08505085.png\n",
      "gen flagged -  40.643578 file name is -  NFI-08509085.png\n",
      "gen flagged -  32.48764 file name is -  NFI-08507085.png\n",
      "gen flagged -  37.244232 file name is -  NFI-08503085.png\n",
      "gen flagged -  32.666718 file name is -  NFI-08511085.png\n",
      "When k is  0.086\n",
      "gen flagged -  44.846115 file name is -  NFI-08607086.png\n",
      "gen flagged -  41.08617 file name is -  NFI-08605086.png\n",
      "gen flagged -  46.273308 file name is -  NFI-08609086.png\n",
      "gen flagged -  36.857365 file name is -  NFI-08601086.png\n",
      "gen flagged -  41.20061 file name is -  NFI-08603086.png\n",
      "gen flagged -  46.941345 file name is -  NFI-08606086.png\n",
      "gen flagged -  39.203026 file name is -  NFI-08604086.png\n",
      "gen flagged -  43.334538 file name is -  NFI-08608086.png\n",
      "gen flagged -  40.580956 file name is -  NFI-08602086.png\n",
      "When k is  0.089\n",
      "forg passed -  30.923817 file name is -  NFI-01603089.png\n",
      "forg passed -  31.281673 file name is -  NFI-02203089.png\n",
      "forg passed -  30.296621 file name is -  NFI-05901089.png\n",
      "forg passed -  31.207113 file name is -  NFI-01602089.png\n",
      "When k is  0.092\n",
      "gen flagged -  33.971004 file name is -  NFI-09206092.png\n",
      "gen flagged -  35.999794 file name is -  NFI-09212092.png\n",
      "gen flagged -  32.112526 file name is -  NFI-09205092.png\n",
      "gen flagged -  38.98003 file name is -  NFI-09211092.png\n",
      "When k is  0.093\n",
      "forg passed -  26.575853 file name is -  NFI-02306093.png\n",
      "forg passed -  31.418713 file name is -  NFI-05202093.png\n",
      "forg passed -  27.925837 file name is -  NFI-02302093.png\n",
      "forg passed -  30.29973 file name is -  NFI-02305093.png\n",
      "forg_passed is  51\n",
      "gen_flagged is  73\n"
     ]
    }
   ],
   "source": [
    "forg_passed=0\n",
    "gen_flagged=0\n",
    "x=[0.002, 0.008, 0.016, 0.018, 0.024, 0.033, 0.035, 0.044, 0.046, 0.063,\n",
    "   0.070, 0.071, 0.077, 0.084, 0.085, 0.086, 0.089, 0.092, 0.093]\n",
    "\n",
    "for k in x: #the id of signatures you want to check\n",
    "    print(\"When k is \", k)\n",
    "    anc,neg,pos=getfiles(k,gent,forgt)\n",
    "    \n",
    "    anchor=returnimages(gent,anc)\n",
    "    for i in range(len(pos)): #pos\n",
    "        positive=returnimages(gent,pos[i])\n",
    "        x=model.predict([anchor,positive,anchor])\n",
    "        a, p, useless = x[0,0:512], x[0,512:1024], x[0,1024:1536]\n",
    "        #dist=sum(a-p)\n",
    "        dist=np.linalg.norm(a-p)\n",
    "        #print(\"positive distance is \",dist)\n",
    "        if(dist>32):\n",
    "        #  print(\"0\")\n",
    "            gen_flagged=gen_flagged+1\n",
    "            print(\"gen flagged - \",dist, \"file name is - \", pos[i])\n",
    "            \n",
    "        else:\n",
    "            gen_flagged=gen_flagged\n",
    "        #   print(\"1\")\n",
    "        \n",
    "    for j in range(len(neg)): #neg\n",
    "        negative=returnimages(forgt,neg[j])\n",
    "        x=model.predict([anchor,negative,anchor])\n",
    "        a, n, useless = x[0,0:512], x[0,512:1024], x[0,1024:1536]\n",
    "        #dist=sum(a-n)\n",
    "        dist=np.linalg.norm(a-n)\n",
    "        #print(\"negative distance is \",dist)\n",
    "        if(dist>32):\n",
    "            forg_passed=forg_passed\n",
    "          #  print(\"0\")\n",
    "        else:\n",
    "            forg_passed=forg_passed+1\n",
    "            print(\"forg passed - \",dist, \"file name is - \", neg[j])\n",
    "          #  print(\"1\")\n",
    "\n",
    "print(\"forg_passed is \",forg_passed)\n",
    "print(\"gen_flagged is \",gen_flagged)"
   ]
  },
  {
   "cell_type": "code",
   "execution_count": 79,
   "metadata": {
    "_uuid": "00d347486e3661b94c2272a399d99378945175eb"
   },
   "outputs": [],
   "source": [
    "def getfilest(num,gen,forg):\n",
    "    a=os.listdir(gen)\n",
    "    b=os.listdir(forg)\n",
    "    c=str(num)\n",
    "    c=c[2:]\n",
    "    if(len(c)==2):\n",
    "        c=c+\"0\"\n",
    "    \n",
    "    n,m=[],[]\n",
    "    for i in b:\n",
    "        if i.endswith(c+\".png\"):\n",
    "            n=n+[i]\n",
    "        elif i.endswith(c+\".PNG\"):\n",
    "            n=n+[i]\n",
    "    for i in a:\n",
    "        if i.endswith(c+\".png\"):\n",
    "            m=m+[i]\n",
    "        elif i.endswith(c+\".PNG\"):\n",
    "            m=m+[i]\n",
    "    return m.pop(),m.pop(),n,m"
   ]
  },
  {
   "cell_type": "code",
   "execution_count": 80,
   "metadata": {
    "_uuid": "41d3a8746ae16a3ee1671d67893aacc1b2d75f4d"
   },
   "outputs": [
    {
     "name": "stdout",
     "output_type": "stream",
     "text": [
      "When k is  0.002\n",
      "gen flagged -  34.20097351074219 file name is -  NFI-00207002.png\n",
      "forg passed -  30.962337493896484 file name is -  NFI-08901002.png\n",
      "When k is  0.008\n",
      "gen flagged -  35.70679473876953 file name is -  NFI-00801008.png\n",
      "gen flagged -  32.267417907714844 file name is -  NFI-00803008.png\n",
      "When k is  0.016\n",
      "gen flagged -  33.771759033203125 file name is -  NFI-01608016.png\n",
      "gen flagged -  34.40605926513672 file name is -  NFI-01612016.png\n",
      "forg passed -  31.67192840576172 file name is -  NFI-07704016.png\n",
      "forg passed -  30.936824798583984 file name is -  NFI-07706016.png\n",
      "When k is  0.018\n",
      "gen flagged -  37.429237365722656 file name is -  NFI-01807018.png\n",
      "gen flagged -  37.59374237060547 file name is -  NFI-01811018.png\n",
      "gen flagged -  34.5028190612793 file name is -  NFI-01801018.png\n",
      "gen flagged -  40.34123992919922 file name is -  NFI-01804018.png\n",
      "When k is  0.024\n",
      "When k is  0.033\n",
      "gen flagged -  32.24171447753906 file name is -  NFI-03312033.png\n",
      "forg passed -  29.91632843017578 file name is -  NFI-02705033.png\n",
      "forg passed -  31.38677215576172 file name is -  NFI-01604033.png\n",
      "forg passed -  27.573501586914062 file name is -  NFI-01606033.png\n",
      "forg passed -  30.806629180908203 file name is -  NFI-01603033.png\n",
      "forg passed -  30.14049530029297 file name is -  NFI-02704033.png\n",
      "forg passed -  28.942256927490234 file name is -  NFI-02702033.png\n",
      "When k is  0.035\n",
      "gen flagged -  34.882205963134766 file name is -  NFI-03504035.png\n",
      "gen flagged -  36.65641403198242 file name is -  NFI-03503035.png\n",
      "When k is  0.044\n",
      "gen flagged -  34.995033264160156 file name is -  NFI-04405044.png\n",
      "forg passed -  30.722286224365234 file name is -  NFI-00905044.png\n",
      "forg passed -  28.679641723632812 file name is -  NFI-00604044.png\n",
      "forg passed -  31.303001403808594 file name is -  NFI-00903044.png\n",
      "When k is  0.046\n",
      "When k is  0.063\n",
      "forg passed -  31.93385124206543 file name is -  NFI-00603063.png\n",
      "forg passed -  31.32653045654297 file name is -  NFI-08002063.png\n",
      "forg passed -  31.0627384185791 file name is -  NFI-08001063.png\n",
      "When k is  0.07\n",
      "gen flagged -  35.156524658203125 file name is -  NFI-07005070.png\n",
      "gen flagged -  33.33945846557617 file name is -  NFI-07007070.png\n",
      "gen flagged -  39.93748474121094 file name is -  NFI-07003070.png\n",
      "gen flagged -  33.6066780090332 file name is -  NFI-07011070.png\n",
      "gen flagged -  36.15966033935547 file name is -  NFI-07001070.png\n",
      "gen flagged -  36.25759506225586 file name is -  NFI-07004070.png\n",
      "gen flagged -  34.768043518066406 file name is -  NFI-07008070.png\n",
      "gen flagged -  39.742000579833984 file name is -  NFI-07006070.png\n",
      "gen flagged -  34.57470703125 file name is -  NFI-07002070.png\n",
      "When k is  0.071\n",
      "gen flagged -  45.8287353515625 file name is -  NFI-07106071.png\n",
      "forg passed -  29.783615112304688 file name is -  NFI-07402071.png\n",
      "forg passed -  31.980144500732422 file name is -  NFI-07404071.png\n",
      "forg passed -  31.643747329711914 file name is -  NFI-07401071.png\n",
      "forg passed -  29.82175064086914 file name is -  NFI-08506071.png\n",
      "When k is  0.077\n",
      "gen flagged -  32.28384017944336 file name is -  NFI-07711077.png\n",
      "gen flagged -  37.66605758666992 file name is -  NFI-07703077.png\n",
      "gen flagged -  37.45262908935547 file name is -  NFI-07709077.png\n",
      "gen flagged -  33.187713623046875 file name is -  NFI-07710077.png\n",
      "gen flagged -  32.36201095581055 file name is -  NFI-07702077.png\n",
      "gen flagged -  32.259891510009766 file name is -  NFI-07712077.png\n",
      "When k is  0.084\n",
      "gen flagged -  35.04923629760742 file name is -  NFI-08406084.png\n",
      "gen flagged -  35.46971893310547 file name is -  NFI-08409084.png\n",
      "gen flagged -  54.886619567871094 file name is -  NFI-08407084.png\n",
      "gen flagged -  41.482032775878906 file name is -  NFI-08411084.png\n",
      "When k is  0.085\n",
      "gen flagged -  33.092864990234375 file name is -  NFI-08504085.png\n",
      "gen flagged -  33.96031951904297 file name is -  NFI-08508085.png\n",
      "gen flagged -  35.572818756103516 file name is -  NFI-08502085.png\n",
      "gen flagged -  35.85478973388672 file name is -  NFI-08510085.png\n",
      "gen flagged -  39.005157470703125 file name is -  NFI-08512085.png\n",
      "gen flagged -  35.85525894165039 file name is -  NFI-08505085.png\n",
      "gen flagged -  38.72085952758789 file name is -  NFI-08509085.png\n",
      "gen flagged -  32.28291320800781 file name is -  NFI-08507085.png\n",
      "gen flagged -  40.25214385986328 file name is -  NFI-08503085.png\n",
      "When k is  0.086\n",
      "gen flagged -  41.60326385498047 file name is -  NFI-08607086.png\n",
      "gen flagged -  39.03707504272461 file name is -  NFI-08605086.png\n",
      "gen flagged -  42.90446472167969 file name is -  NFI-08609086.png\n",
      "gen flagged -  34.204078674316406 file name is -  NFI-08601086.png\n",
      "gen flagged -  39.38386535644531 file name is -  NFI-08603086.png\n",
      "gen flagged -  35.44468307495117 file name is -  NFI-08611086.png\n",
      "gen flagged -  43.88347625732422 file name is -  NFI-08606086.png\n",
      "gen flagged -  39.7031364440918 file name is -  NFI-08604086.png\n",
      "gen flagged -  41.46321105957031 file name is -  NFI-08608086.png\n",
      "gen flagged -  33.036895751953125 file name is -  NFI-08612086.png\n",
      "When k is  0.089\n",
      "forg passed -  31.748191833496094 file name is -  NFI-05905089.png\n",
      "forg passed -  30.600204467773438 file name is -  NFI-01601089.png\n",
      "forg passed -  29.4180908203125 file name is -  NFI-01603089.png\n",
      "forg passed -  30.810972213745117 file name is -  NFI-01605089.png\n",
      "forg passed -  28.02108383178711 file name is -  NFI-05901089.png\n",
      "forg passed -  29.87322235107422 file name is -  NFI-02202089.png\n",
      "forg passed -  28.984472274780273 file name is -  NFI-01602089.png\n",
      "forg passed -  28.234390258789062 file name is -  NFI-05902089.png\n",
      "forg passed -  31.83340072631836 file name is -  NFI-01604089.png\n",
      "When k is  0.092\n",
      "gen flagged -  34.61383056640625 file name is -  NFI-09206092.png\n",
      "gen flagged -  32.084964752197266 file name is -  NFI-09208092.png\n",
      "gen flagged -  34.858787536621094 file name is -  NFI-09204092.png\n",
      "gen flagged -  33.241153717041016 file name is -  NFI-09212092.png\n",
      "gen flagged -  32.77886962890625 file name is -  NFI-09202092.png\n",
      "gen flagged -  32.09340286254883 file name is -  NFI-09207092.png\n",
      "gen flagged -  32.00960159301758 file name is -  NFI-09209092.png\n",
      "gen flagged -  37.873573303222656 file name is -  NFI-09205092.png\n",
      "gen flagged -  34.32234191894531 file name is -  NFI-09201092.png\n",
      "When k is  0.093\n",
      "forg passed -  27.313579559326172 file name is -  NFI-02306093.png\n",
      "forg passed -  31.22958755493164 file name is -  NFI-05202093.png\n",
      "forg passed -  28.660396575927734 file name is -  NFI-02302093.png\n",
      "forg passed -  30.40732192993164 file name is -  NFI-02305093.png\n",
      "forg_passed is  32\n",
      "gen_flagged is  61\n"
     ]
    }
   ],
   "source": [
    "forg_passed=0\n",
    "gen_flagged=0\n",
    "x=[0.002, 0.008, 0.016, 0.018, 0.024, 0.033, 0.035, 0.044, 0.046, 0.063,\n",
    "   0.070, 0.071, 0.077, 0.084, 0.085, 0.086, 0.089, 0.092, 0.093]\n",
    "\n",
    "for k in x: #the id of signatures you want to check\n",
    "    print(\"When k is \", k)\n",
    "    anc1,anc2,neg,pos=getfilest(k,gent,forgt)\n",
    "    \n",
    "    anchor1=returnimages(gent,anc1)\n",
    "    anchor2=returnimages(gent,anc2)\n",
    "    for i in range(len(pos)): #pos\n",
    "        positive=returnimages(gent,pos[i])\n",
    "        x=model.predict([anchor1,positive,anchor2])\n",
    "        a1, p, a2 = x[0,0:512], x[0,512:1024], x[0,1024:1536]\n",
    "        #dist=sum(a-p)\n",
    "        dist1=np.linalg.norm(a1-p)\n",
    "        dist2=np.linalg.norm(a2-p)\n",
    "        dist=(dist1+dist2)/2\n",
    "        #print(\"positive distance is \",dist)\n",
    "        if(dist>32):\n",
    "        #  print(\"0\")\n",
    "            gen_flagged=gen_flagged+1\n",
    "            print(\"gen flagged - \",dist, \"file name is - \", pos[i])\n",
    "            \n",
    "        else:\n",
    "            gen_flagged=gen_flagged\n",
    "        #   print(\"1\")\n",
    "        \n",
    "    for j in range(len(neg)): #neg\n",
    "        negative=returnimages(forgt,neg[j])\n",
    "        x=model.predict([anchor1,negative,anchor2])\n",
    "        a1, n, a2 = x[0,0:512], x[0,512:1024], x[0,1024:1536]\n",
    "        #dist=sum(a-n)\n",
    "        dist1=np.linalg.norm(a1-n)\n",
    "        dist2=np.linalg.norm(a2-n)\n",
    "        #print(\"negative distance is \",dist)\n",
    "        dist=(dist1+dist2)/2\n",
    "        if(dist>32):\n",
    "            forg_passed=forg_passed\n",
    "          #  print(\"0\")\n",
    "        else:\n",
    "            forg_passed=forg_passed+1\n",
    "            print(\"forg passed - \",dist, \"file name is - \", neg[j])\n",
    "          #  print(\"1\")\n",
    "\n",
    "print(\"forg_passed is \",forg_passed)\n",
    "print(\"gen_flagged is \",gen_flagged)"
   ]
  }
 ],
 "metadata": {
  "kernelspec": {
   "display_name": "Python 3",
   "language": "python",
   "name": "python3"
  },
  "language_info": {
   "codemirror_mode": {
    "name": "ipython",
    "version": 3
   },
   "file_extension": ".py",
   "mimetype": "text/x-python",
   "name": "python",
   "nbconvert_exporter": "python",
   "pygments_lexer": "ipython3",
   "version": "3.6.8"
  }
 },
 "nbformat": 4,
 "nbformat_minor": 1
}
